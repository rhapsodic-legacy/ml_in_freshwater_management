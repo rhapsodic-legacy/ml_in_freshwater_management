{
 "cells": [
  {
   "cell_type": "markdown",
   "metadata": {},
   "source": [
    "#### Important Equations"
   ]
  },
  {
   "cell_type": "code",
   "execution_count": 1,
   "metadata": {},
   "outputs": [],
   "source": [
    "# (Kalman Gain) = kg\n",
    "# (Error Estimate) = e_est\n",
    "# (Error Measurement) = e_mea\n",
    "# (Current Estimate) = est_t\n",
    "# (Previous Estimate) = est_t-1\n",
    "# (Measurement) = mea\n",
    "# [Kalman Gain]\n",
    "# kg = (e_est)/((e_est)+(e_mea))\n",
    "# [Current Estimate]\n",
    "# est_t = ((est_t-1) + kg(mea - est_t-1))\n",
    "# e_est{t} = ((e_mea)(e_est{t-1})/((e_mea)+(e_est{t-1}))"
   ]
  },
  {
   "cell_type": "markdown",
   "metadata": {},
   "source": [
    "#### Step 1: Data Wrangling"
   ]
  },
  {
   "cell_type": "code",
   "execution_count": 227,
   "metadata": {},
   "outputs": [],
   "source": [
    "# Import relevant libraries\n",
    "import pandas as pd\n",
    "import numpy as np\n",
    "import matplotlib.pyplot as plt"
   ]
  },
  {
   "cell_type": "code",
   "execution_count": 6,
   "metadata": {},
   "outputs": [
    {
     "data": {
      "text/html": [
       "<div>\n",
       "<style scoped>\n",
       "    .dataframe tbody tr th:only-of-type {\n",
       "        vertical-align: middle;\n",
       "    }\n",
       "\n",
       "    .dataframe tbody tr th {\n",
       "        vertical-align: top;\n",
       "    }\n",
       "\n",
       "    .dataframe thead th {\n",
       "        text-align: right;\n",
       "    }\n",
       "</style>\n",
       "<table border=\"1\" class=\"dataframe\">\n",
       "  <thead>\n",
       "    <tr style=\"text-align: right;\">\n",
       "      <th></th>\n",
       "      <th>Date (YYYYMMDD)</th>\n",
       "      <th>Lake_name</th>\n",
       "      <th>Latitude</th>\n",
       "      <th>Longitude</th>\n",
       "      <th>Relaive_orbit</th>\n",
       "      <th>Lake water level (m)</th>\n",
       "    </tr>\n",
       "  </thead>\n",
       "  <tbody>\n",
       "    <tr>\n",
       "      <th>0</th>\n",
       "      <td>20160403</td>\n",
       "      <td>Athabasca</td>\n",
       "      <td>59.244637</td>\n",
       "      <td>-108.047469</td>\n",
       "      <td>303</td>\n",
       "      <td>208.303892</td>\n",
       "    </tr>\n",
       "    <tr>\n",
       "      <th>1</th>\n",
       "      <td>20160403</td>\n",
       "      <td>Athabasca</td>\n",
       "      <td>59.247528</td>\n",
       "      <td>-108.049405</td>\n",
       "      <td>303</td>\n",
       "      <td>208.131251</td>\n",
       "    </tr>\n",
       "    <tr>\n",
       "      <th>2</th>\n",
       "      <td>20160403</td>\n",
       "      <td>Athabasca</td>\n",
       "      <td>59.250420</td>\n",
       "      <td>-108.051342</td>\n",
       "      <td>303</td>\n",
       "      <td>208.550610</td>\n",
       "    </tr>\n",
       "    <tr>\n",
       "      <th>3</th>\n",
       "      <td>20160403</td>\n",
       "      <td>Athabasca</td>\n",
       "      <td>59.253311</td>\n",
       "      <td>-108.053278</td>\n",
       "      <td>303</td>\n",
       "      <td>208.300569</td>\n",
       "    </tr>\n",
       "    <tr>\n",
       "      <th>4</th>\n",
       "      <td>20160403</td>\n",
       "      <td>Athabasca</td>\n",
       "      <td>59.256202</td>\n",
       "      <td>-108.055216</td>\n",
       "      <td>303</td>\n",
       "      <td>208.333929</td>\n",
       "    </tr>\n",
       "  </tbody>\n",
       "</table>\n",
       "</div>"
      ],
      "text/plain": [
       "   Date (YYYYMMDD)  Lake_name   Latitude   Longitude  Relaive_orbit  \\\n",
       "0         20160403  Athabasca  59.244637 -108.047469            303   \n",
       "1         20160403  Athabasca  59.247528 -108.049405            303   \n",
       "2         20160403  Athabasca  59.250420 -108.051342            303   \n",
       "3         20160403  Athabasca  59.253311 -108.053278            303   \n",
       "4         20160403  Athabasca  59.256202 -108.055216            303   \n",
       "\n",
       "   Lake water level (m)  \n",
       "0            208.303892  \n",
       "1            208.131251  \n",
       "2            208.550610  \n",
       "3            208.300569  \n",
       "4            208.333929  "
      ]
     },
     "execution_count": 6,
     "metadata": {},
     "output_type": "execute_result"
    }
   ],
   "source": [
    "# Load data\n",
    "sat_a = pd.read_csv(\"Sentinel_3A.csv\")\n",
    "sat_a.head()"
   ]
  },
  {
   "cell_type": "code",
   "execution_count": 8,
   "metadata": {},
   "outputs": [
    {
     "data": {
      "text/html": [
       "<div>\n",
       "<style scoped>\n",
       "    .dataframe tbody tr th:only-of-type {\n",
       "        vertical-align: middle;\n",
       "    }\n",
       "\n",
       "    .dataframe tbody tr th {\n",
       "        vertical-align: top;\n",
       "    }\n",
       "\n",
       "    .dataframe thead th {\n",
       "        text-align: right;\n",
       "    }\n",
       "</style>\n",
       "<table border=\"1\" class=\"dataframe\">\n",
       "  <thead>\n",
       "    <tr style=\"text-align: right;\">\n",
       "      <th></th>\n",
       "      <th>Date (YYYYMMDD)</th>\n",
       "      <th>Lake_name</th>\n",
       "      <th>Latitude</th>\n",
       "      <th>Longitude</th>\n",
       "      <th>Relaive_orbit</th>\n",
       "      <th>Lake water level (m)</th>\n",
       "    </tr>\n",
       "  </thead>\n",
       "  <tbody>\n",
       "    <tr>\n",
       "      <th>0</th>\n",
       "      <td>20180512</td>\n",
       "      <td>Athabasca</td>\n",
       "      <td>59.365696</td>\n",
       "      <td>-107.680063</td>\n",
       "      <td>98</td>\n",
       "      <td>209.3384</td>\n",
       "    </tr>\n",
       "    <tr>\n",
       "      <th>1</th>\n",
       "      <td>20180512</td>\n",
       "      <td>Athabasca</td>\n",
       "      <td>59.362814</td>\n",
       "      <td>-107.682010</td>\n",
       "      <td>98</td>\n",
       "      <td>209.5665</td>\n",
       "    </tr>\n",
       "    <tr>\n",
       "      <th>2</th>\n",
       "      <td>20180512</td>\n",
       "      <td>Athabasca</td>\n",
       "      <td>59.359931</td>\n",
       "      <td>-107.683956</td>\n",
       "      <td>98</td>\n",
       "      <td>209.6700</td>\n",
       "    </tr>\n",
       "    <tr>\n",
       "      <th>3</th>\n",
       "      <td>20180512</td>\n",
       "      <td>Athabasca</td>\n",
       "      <td>59.357049</td>\n",
       "      <td>-107.685902</td>\n",
       "      <td>98</td>\n",
       "      <td>209.5169</td>\n",
       "    </tr>\n",
       "    <tr>\n",
       "      <th>4</th>\n",
       "      <td>20180512</td>\n",
       "      <td>Athabasca</td>\n",
       "      <td>59.354166</td>\n",
       "      <td>-107.687848</td>\n",
       "      <td>98</td>\n",
       "      <td>209.4275</td>\n",
       "    </tr>\n",
       "  </tbody>\n",
       "</table>\n",
       "</div>"
      ],
      "text/plain": [
       "   Date (YYYYMMDD)  Lake_name   Latitude   Longitude  Relaive_orbit  \\\n",
       "0         20180512  Athabasca  59.365696 -107.680063             98   \n",
       "1         20180512  Athabasca  59.362814 -107.682010             98   \n",
       "2         20180512  Athabasca  59.359931 -107.683956             98   \n",
       "3         20180512  Athabasca  59.357049 -107.685902             98   \n",
       "4         20180512  Athabasca  59.354166 -107.687848             98   \n",
       "\n",
       "   Lake water level (m)  \n",
       "0              209.3384  \n",
       "1              209.5665  \n",
       "2              209.6700  \n",
       "3              209.5169  \n",
       "4              209.4275  "
      ]
     },
     "execution_count": 8,
     "metadata": {},
     "output_type": "execute_result"
    }
   ],
   "source": [
    "sat_b = pd.read_csv(\"Sentinel_3B.csv\")\n",
    "sat_b.head()"
   ]
  },
  {
   "cell_type": "code",
   "execution_count": 11,
   "metadata": {},
   "outputs": [
    {
     "data": {
      "text/html": [
       "<div>\n",
       "<style scoped>\n",
       "    .dataframe tbody tr th:only-of-type {\n",
       "        vertical-align: middle;\n",
       "    }\n",
       "\n",
       "    .dataframe tbody tr th {\n",
       "        vertical-align: top;\n",
       "    }\n",
       "\n",
       "    .dataframe thead th {\n",
       "        text-align: right;\n",
       "    }\n",
       "</style>\n",
       "<table border=\"1\" class=\"dataframe\">\n",
       "  <thead>\n",
       "    <tr style=\"text-align: right;\">\n",
       "      <th></th>\n",
       "      <th>Date (YYYYMMDD)</th>\n",
       "      <th>Lake_name</th>\n",
       "      <th>Latitude</th>\n",
       "      <th>Longitude</th>\n",
       "      <th>Relaive_orbit</th>\n",
       "      <th>Lake water level (m)</th>\n",
       "    </tr>\n",
       "  </thead>\n",
       "  <tbody>\n",
       "    <tr>\n",
       "      <th>0</th>\n",
       "      <td>20160403</td>\n",
       "      <td>Athabasca</td>\n",
       "      <td>59.244637</td>\n",
       "      <td>-108.047469</td>\n",
       "      <td>303</td>\n",
       "      <td>208.303892</td>\n",
       "    </tr>\n",
       "    <tr>\n",
       "      <th>1</th>\n",
       "      <td>20160403</td>\n",
       "      <td>Athabasca</td>\n",
       "      <td>59.247528</td>\n",
       "      <td>-108.049405</td>\n",
       "      <td>303</td>\n",
       "      <td>208.131251</td>\n",
       "    </tr>\n",
       "    <tr>\n",
       "      <th>2</th>\n",
       "      <td>20160403</td>\n",
       "      <td>Athabasca</td>\n",
       "      <td>59.250420</td>\n",
       "      <td>-108.051342</td>\n",
       "      <td>303</td>\n",
       "      <td>208.550610</td>\n",
       "    </tr>\n",
       "    <tr>\n",
       "      <th>3</th>\n",
       "      <td>20160403</td>\n",
       "      <td>Athabasca</td>\n",
       "      <td>59.253311</td>\n",
       "      <td>-108.053278</td>\n",
       "      <td>303</td>\n",
       "      <td>208.300569</td>\n",
       "    </tr>\n",
       "    <tr>\n",
       "      <th>4</th>\n",
       "      <td>20160403</td>\n",
       "      <td>Athabasca</td>\n",
       "      <td>59.256202</td>\n",
       "      <td>-108.055216</td>\n",
       "      <td>303</td>\n",
       "      <td>208.333929</td>\n",
       "    </tr>\n",
       "  </tbody>\n",
       "</table>\n",
       "</div>"
      ],
      "text/plain": [
       "   Date (YYYYMMDD)  Lake_name   Latitude   Longitude  Relaive_orbit  \\\n",
       "0         20160403  Athabasca  59.244637 -108.047469            303   \n",
       "1         20160403  Athabasca  59.247528 -108.049405            303   \n",
       "2         20160403  Athabasca  59.250420 -108.051342            303   \n",
       "3         20160403  Athabasca  59.253311 -108.053278            303   \n",
       "4         20160403  Athabasca  59.256202 -108.055216            303   \n",
       "\n",
       "   Lake water level (m)  \n",
       "0            208.303892  \n",
       "1            208.131251  \n",
       "2            208.550610  \n",
       "3            208.300569  \n",
       "4            208.333929  "
      ]
     },
     "execution_count": 11,
     "metadata": {},
     "output_type": "execute_result"
    }
   ],
   "source": [
    "# Create one Dataframe\n",
    "frames = [sat_a, sat_b]\n",
    "data = pd.concat(frames)\n",
    "data.head()"
   ]
  },
  {
   "cell_type": "code",
   "execution_count": 12,
   "metadata": {},
   "outputs": [
    {
     "data": {
      "text/html": [
       "<div>\n",
       "<style scoped>\n",
       "    .dataframe tbody tr th:only-of-type {\n",
       "        vertical-align: middle;\n",
       "    }\n",
       "\n",
       "    .dataframe tbody tr th {\n",
       "        vertical-align: top;\n",
       "    }\n",
       "\n",
       "    .dataframe thead th {\n",
       "        text-align: right;\n",
       "    }\n",
       "</style>\n",
       "<table border=\"1\" class=\"dataframe\">\n",
       "  <thead>\n",
       "    <tr style=\"text-align: right;\">\n",
       "      <th></th>\n",
       "      <th>date</th>\n",
       "      <th>lake</th>\n",
       "      <th>Latitude</th>\n",
       "      <th>Longitude</th>\n",
       "      <th>orbit</th>\n",
       "      <th>water_level</th>\n",
       "    </tr>\n",
       "  </thead>\n",
       "  <tbody>\n",
       "    <tr>\n",
       "      <th>0</th>\n",
       "      <td>20160403</td>\n",
       "      <td>Athabasca</td>\n",
       "      <td>59.244637</td>\n",
       "      <td>-108.047469</td>\n",
       "      <td>303</td>\n",
       "      <td>208.303892</td>\n",
       "    </tr>\n",
       "    <tr>\n",
       "      <th>1</th>\n",
       "      <td>20160403</td>\n",
       "      <td>Athabasca</td>\n",
       "      <td>59.247528</td>\n",
       "      <td>-108.049405</td>\n",
       "      <td>303</td>\n",
       "      <td>208.131251</td>\n",
       "    </tr>\n",
       "    <tr>\n",
       "      <th>2</th>\n",
       "      <td>20160403</td>\n",
       "      <td>Athabasca</td>\n",
       "      <td>59.250420</td>\n",
       "      <td>-108.051342</td>\n",
       "      <td>303</td>\n",
       "      <td>208.550610</td>\n",
       "    </tr>\n",
       "    <tr>\n",
       "      <th>3</th>\n",
       "      <td>20160403</td>\n",
       "      <td>Athabasca</td>\n",
       "      <td>59.253311</td>\n",
       "      <td>-108.053278</td>\n",
       "      <td>303</td>\n",
       "      <td>208.300569</td>\n",
       "    </tr>\n",
       "    <tr>\n",
       "      <th>4</th>\n",
       "      <td>20160403</td>\n",
       "      <td>Athabasca</td>\n",
       "      <td>59.256202</td>\n",
       "      <td>-108.055216</td>\n",
       "      <td>303</td>\n",
       "      <td>208.333929</td>\n",
       "    </tr>\n",
       "  </tbody>\n",
       "</table>\n",
       "</div>"
      ],
      "text/plain": [
       "       date       lake   Latitude   Longitude  orbit  water_level\n",
       "0  20160403  Athabasca  59.244637 -108.047469    303   208.303892\n",
       "1  20160403  Athabasca  59.247528 -108.049405    303   208.131251\n",
       "2  20160403  Athabasca  59.250420 -108.051342    303   208.550610\n",
       "3  20160403  Athabasca  59.253311 -108.053278    303   208.300569\n",
       "4  20160403  Athabasca  59.256202 -108.055216    303   208.333929"
      ]
     },
     "execution_count": 12,
     "metadata": {},
     "output_type": "execute_result"
    }
   ],
   "source": [
    "# Rename inconvenient columns\n",
    "sat = data.rename(columns={'Date (YYYYMMDD)': 'date', 'Lake_name': 'lake', 'Relaive_orbit': 'orbit', 'Lake water level (m)': 'water_level'})\n",
    "sat.head()"
   ]
  },
  {
   "cell_type": "code",
   "execution_count": 61,
   "metadata": {},
   "outputs": [
    {
     "data": {
      "text/html": [
       "<div>\n",
       "<style scoped>\n",
       "    .dataframe tbody tr th:only-of-type {\n",
       "        vertical-align: middle;\n",
       "    }\n",
       "\n",
       "    .dataframe tbody tr th {\n",
       "        vertical-align: top;\n",
       "    }\n",
       "\n",
       "    .dataframe thead th {\n",
       "        text-align: right;\n",
       "    }\n",
       "</style>\n",
       "<table border=\"1\" class=\"dataframe\">\n",
       "  <thead>\n",
       "    <tr style=\"text-align: right;\">\n",
       "      <th></th>\n",
       "      <th>date</th>\n",
       "      <th>lake</th>\n",
       "      <th>Latitude</th>\n",
       "      <th>Longitude</th>\n",
       "      <th>orbit</th>\n",
       "      <th>water_level</th>\n",
       "    </tr>\n",
       "  </thead>\n",
       "  <tbody>\n",
       "    <tr>\n",
       "      <th>0</th>\n",
       "      <td>20160403</td>\n",
       "      <td>Athabasca</td>\n",
       "      <td>59.244637</td>\n",
       "      <td>-108.047469</td>\n",
       "      <td>303</td>\n",
       "      <td>208.303892</td>\n",
       "    </tr>\n",
       "    <tr>\n",
       "      <th>1</th>\n",
       "      <td>20160403</td>\n",
       "      <td>Athabasca</td>\n",
       "      <td>59.247528</td>\n",
       "      <td>-108.049405</td>\n",
       "      <td>303</td>\n",
       "      <td>208.131251</td>\n",
       "    </tr>\n",
       "    <tr>\n",
       "      <th>2</th>\n",
       "      <td>20160403</td>\n",
       "      <td>Athabasca</td>\n",
       "      <td>59.250420</td>\n",
       "      <td>-108.051342</td>\n",
       "      <td>303</td>\n",
       "      <td>208.550610</td>\n",
       "    </tr>\n",
       "    <tr>\n",
       "      <th>3</th>\n",
       "      <td>20160403</td>\n",
       "      <td>Athabasca</td>\n",
       "      <td>59.253311</td>\n",
       "      <td>-108.053278</td>\n",
       "      <td>303</td>\n",
       "      <td>208.300569</td>\n",
       "    </tr>\n",
       "    <tr>\n",
       "      <th>4</th>\n",
       "      <td>20160403</td>\n",
       "      <td>Athabasca</td>\n",
       "      <td>59.256202</td>\n",
       "      <td>-108.055216</td>\n",
       "      <td>303</td>\n",
       "      <td>208.333929</td>\n",
       "    </tr>\n",
       "  </tbody>\n",
       "</table>\n",
       "</div>"
      ],
      "text/plain": [
       "       date       lake   Latitude   Longitude  orbit  water_level\n",
       "0  20160403  Athabasca  59.244637 -108.047469    303   208.303892\n",
       "1  20160403  Athabasca  59.247528 -108.049405    303   208.131251\n",
       "2  20160403  Athabasca  59.250420 -108.051342    303   208.550610\n",
       "3  20160403  Athabasca  59.253311 -108.053278    303   208.300569\n",
       "4  20160403  Athabasca  59.256202 -108.055216    303   208.333929"
      ]
     },
     "execution_count": 61,
     "metadata": {},
     "output_type": "execute_result"
    }
   ],
   "source": [
    "# Isolate Three Lakes\n",
    "# Athabasca\n",
    "dfath = sat[sat['lake'] == 'Athabasca']\n",
    "dfath.head()"
   ]
  },
  {
   "cell_type": "code",
   "execution_count": 62,
   "metadata": {},
   "outputs": [
    {
     "data": {
      "text/html": [
       "<div>\n",
       "<style scoped>\n",
       "    .dataframe tbody tr th:only-of-type {\n",
       "        vertical-align: middle;\n",
       "    }\n",
       "\n",
       "    .dataframe tbody tr th {\n",
       "        vertical-align: top;\n",
       "    }\n",
       "\n",
       "    .dataframe thead th {\n",
       "        text-align: right;\n",
       "    }\n",
       "</style>\n",
       "<table border=\"1\" class=\"dataframe\">\n",
       "  <thead>\n",
       "    <tr style=\"text-align: right;\">\n",
       "      <th></th>\n",
       "      <th>date</th>\n",
       "      <th>lake</th>\n",
       "      <th>Latitude</th>\n",
       "      <th>Longitude</th>\n",
       "      <th>orbit</th>\n",
       "      <th>water_level</th>\n",
       "    </tr>\n",
       "  </thead>\n",
       "  <tbody>\n",
       "    <tr>\n",
       "      <th>54265</th>\n",
       "      <td>20160401</td>\n",
       "      <td>Great Slave</td>\n",
       "      <td>62.627736</td>\n",
       "      <td>-115.414797</td>\n",
       "      <td>284</td>\n",
       "      <td>157.051844</td>\n",
       "    </tr>\n",
       "    <tr>\n",
       "      <th>54266</th>\n",
       "      <td>20160401</td>\n",
       "      <td>Great Slave</td>\n",
       "      <td>62.624878</td>\n",
       "      <td>-115.417140</td>\n",
       "      <td>284</td>\n",
       "      <td>156.756702</td>\n",
       "    </tr>\n",
       "    <tr>\n",
       "      <th>54267</th>\n",
       "      <td>20160401</td>\n",
       "      <td>Great Slave</td>\n",
       "      <td>62.619163</td>\n",
       "      <td>-115.421827</td>\n",
       "      <td>284</td>\n",
       "      <td>156.577419</td>\n",
       "    </tr>\n",
       "    <tr>\n",
       "      <th>54268</th>\n",
       "      <td>20160401</td>\n",
       "      <td>Great Slave</td>\n",
       "      <td>62.613447</td>\n",
       "      <td>-115.426511</td>\n",
       "      <td>284</td>\n",
       "      <td>156.586135</td>\n",
       "    </tr>\n",
       "    <tr>\n",
       "      <th>54269</th>\n",
       "      <td>20160401</td>\n",
       "      <td>Great Slave</td>\n",
       "      <td>62.607731</td>\n",
       "      <td>-115.431194</td>\n",
       "      <td>284</td>\n",
       "      <td>156.549751</td>\n",
       "    </tr>\n",
       "  </tbody>\n",
       "</table>\n",
       "</div>"
      ],
      "text/plain": [
       "           date         lake   Latitude   Longitude  orbit  water_level\n",
       "54265  20160401  Great Slave  62.627736 -115.414797    284   157.051844\n",
       "54266  20160401  Great Slave  62.624878 -115.417140    284   156.756702\n",
       "54267  20160401  Great Slave  62.619163 -115.421827    284   156.577419\n",
       "54268  20160401  Great Slave  62.613447 -115.426511    284   156.586135\n",
       "54269  20160401  Great Slave  62.607731 -115.431194    284   156.549751"
      ]
     },
     "execution_count": 62,
     "metadata": {},
     "output_type": "execute_result"
    }
   ],
   "source": [
    "# Great Slave\n",
    "dfgr = sat[sat['lake'] == 'Great Slave']\n",
    "dfgr.head()"
   ]
  },
  {
   "cell_type": "code",
   "execution_count": 59,
   "metadata": {},
   "outputs": [
    {
     "data": {
      "text/html": [
       "<div>\n",
       "<style scoped>\n",
       "    .dataframe tbody tr th:only-of-type {\n",
       "        vertical-align: middle;\n",
       "    }\n",
       "\n",
       "    .dataframe tbody tr th {\n",
       "        vertical-align: top;\n",
       "    }\n",
       "\n",
       "    .dataframe thead th {\n",
       "        text-align: right;\n",
       "    }\n",
       "</style>\n",
       "<table border=\"1\" class=\"dataframe\">\n",
       "  <thead>\n",
       "    <tr style=\"text-align: right;\">\n",
       "      <th></th>\n",
       "      <th>date</th>\n",
       "      <th>lake</th>\n",
       "      <th>Latitude</th>\n",
       "      <th>Longitude</th>\n",
       "      <th>orbit</th>\n",
       "      <th>water_level</th>\n",
       "    </tr>\n",
       "  </thead>\n",
       "  <tbody>\n",
       "    <tr>\n",
       "      <th>215027</th>\n",
       "      <td>20160413</td>\n",
       "      <td>Lesser Slave</td>\n",
       "      <td>55.414691</td>\n",
       "      <td>-116.000375</td>\n",
       "      <td>61</td>\n",
       "      <td>575.7888</td>\n",
       "    </tr>\n",
       "    <tr>\n",
       "      <th>215028</th>\n",
       "      <td>20160413</td>\n",
       "      <td>Lesser Slave</td>\n",
       "      <td>55.417525</td>\n",
       "      <td>-116.001941</td>\n",
       "      <td>61</td>\n",
       "      <td>575.9596</td>\n",
       "    </tr>\n",
       "    <tr>\n",
       "      <th>215029</th>\n",
       "      <td>20160413</td>\n",
       "      <td>Lesser Slave</td>\n",
       "      <td>55.420360</td>\n",
       "      <td>-116.003507</td>\n",
       "      <td>61</td>\n",
       "      <td>575.7748</td>\n",
       "    </tr>\n",
       "    <tr>\n",
       "      <th>215030</th>\n",
       "      <td>20160413</td>\n",
       "      <td>Lesser Slave</td>\n",
       "      <td>55.423196</td>\n",
       "      <td>-116.005073</td>\n",
       "      <td>61</td>\n",
       "      <td>575.7656</td>\n",
       "    </tr>\n",
       "    <tr>\n",
       "      <th>215031</th>\n",
       "      <td>20160413</td>\n",
       "      <td>Lesser Slave</td>\n",
       "      <td>55.426030</td>\n",
       "      <td>-116.006639</td>\n",
       "      <td>61</td>\n",
       "      <td>575.9087</td>\n",
       "    </tr>\n",
       "  </tbody>\n",
       "</table>\n",
       "</div>"
      ],
      "text/plain": [
       "            date          lake   Latitude   Longitude  orbit  water_level\n",
       "215027  20160413  Lesser Slave  55.414691 -116.000375     61     575.7888\n",
       "215028  20160413  Lesser Slave  55.417525 -116.001941     61     575.9596\n",
       "215029  20160413  Lesser Slave  55.420360 -116.003507     61     575.7748\n",
       "215030  20160413  Lesser Slave  55.423196 -116.005073     61     575.7656\n",
       "215031  20160413  Lesser Slave  55.426030 -116.006639     61     575.9087"
      ]
     },
     "execution_count": 59,
     "metadata": {},
     "output_type": "execute_result"
    }
   ],
   "source": [
    "# Lesser Slave\n",
    "dfle = sat[sat['lake'] == 'Lesser Slave']\n",
    "dfle.head()"
   ]
  },
  {
   "cell_type": "markdown",
   "metadata": {},
   "source": [
    "#### Step 2: EDA"
   ]
  },
  {
   "cell_type": "code",
   "execution_count": 57,
   "metadata": {},
   "outputs": [],
   "source": [
    "# Lesser Slave Lake"
   ]
  },
  {
   "cell_type": "code",
   "execution_count": 60,
   "metadata": {},
   "outputs": [
    {
     "data": {
      "text/html": [
       "<div>\n",
       "<style scoped>\n",
       "    .dataframe tbody tr th:only-of-type {\n",
       "        vertical-align: middle;\n",
       "    }\n",
       "\n",
       "    .dataframe tbody tr th {\n",
       "        vertical-align: top;\n",
       "    }\n",
       "\n",
       "    .dataframe thead th {\n",
       "        text-align: right;\n",
       "    }\n",
       "</style>\n",
       "<table border=\"1\" class=\"dataframe\">\n",
       "  <thead>\n",
       "    <tr style=\"text-align: right;\">\n",
       "      <th></th>\n",
       "      <th>date</th>\n",
       "      <th>lake</th>\n",
       "      <th>Latitude</th>\n",
       "      <th>Longitude</th>\n",
       "      <th>orbit</th>\n",
       "      <th>water_level</th>\n",
       "    </tr>\n",
       "  </thead>\n",
       "  <tbody>\n",
       "    <tr>\n",
       "      <th>221009</th>\n",
       "      <td>20210913</td>\n",
       "      <td>Lesser Slave</td>\n",
       "      <td>55.421090</td>\n",
       "      <td>-115.548599</td>\n",
       "      <td>184</td>\n",
       "      <td>576.527827</td>\n",
       "    </tr>\n",
       "    <tr>\n",
       "      <th>221010</th>\n",
       "      <td>20210913</td>\n",
       "      <td>Lesser Slave</td>\n",
       "      <td>55.418255</td>\n",
       "      <td>-115.550167</td>\n",
       "      <td>184</td>\n",
       "      <td>576.401274</td>\n",
       "    </tr>\n",
       "    <tr>\n",
       "      <th>221011</th>\n",
       "      <td>20210913</td>\n",
       "      <td>Lesser Slave</td>\n",
       "      <td>55.415420</td>\n",
       "      <td>-115.551734</td>\n",
       "      <td>184</td>\n",
       "      <td>576.417921</td>\n",
       "    </tr>\n",
       "    <tr>\n",
       "      <th>220999</th>\n",
       "      <td>20210913</td>\n",
       "      <td>Lesser Slave</td>\n",
       "      <td>55.449438</td>\n",
       "      <td>-115.532907</td>\n",
       "      <td>184</td>\n",
       "      <td>576.361660</td>\n",
       "    </tr>\n",
       "    <tr>\n",
       "      <th>221042</th>\n",
       "      <td>20210913</td>\n",
       "      <td>Lesser Slave</td>\n",
       "      <td>55.327534</td>\n",
       "      <td>-115.600239</td>\n",
       "      <td>184</td>\n",
       "      <td>575.941938</td>\n",
       "    </tr>\n",
       "  </tbody>\n",
       "</table>\n",
       "</div>"
      ],
      "text/plain": [
       "            date          lake   Latitude   Longitude  orbit  water_level\n",
       "221009  20210913  Lesser Slave  55.421090 -115.548599    184   576.527827\n",
       "221010  20210913  Lesser Slave  55.418255 -115.550167    184   576.401274\n",
       "221011  20210913  Lesser Slave  55.415420 -115.551734    184   576.417921\n",
       "220999  20210913  Lesser Slave  55.449438 -115.532907    184   576.361660\n",
       "221042  20210913  Lesser Slave  55.327534 -115.600239    184   575.941938"
      ]
     },
     "execution_count": 60,
     "metadata": {},
     "output_type": "execute_result"
    }
   ],
   "source": [
    "less = dfle.sort_values('date')\n",
    "less.tail()"
   ]
  },
  {
   "cell_type": "code",
   "execution_count": 32,
   "metadata": {},
   "outputs": [
    {
     "data": {
      "text/plain": [
       "252"
      ]
     },
     "execution_count": 32,
     "metadata": {},
     "output_type": "execute_result"
    }
   ],
   "source": [
    "less.date.nunique()"
   ]
  },
  {
   "cell_type": "code",
   "execution_count": 43,
   "metadata": {},
   "outputs": [],
   "source": [
    "lesser = less.date.unique()\n",
    "less_mean = []"
   ]
  },
  {
   "cell_type": "code",
   "execution_count": 44,
   "metadata": {},
   "outputs": [],
   "source": [
    "for l in lesser: \n",
    "    less_mean.append((less[less['date'] == l].water_level).mean())"
   ]
  },
  {
   "cell_type": "code",
   "execution_count": 55,
   "metadata": {},
   "outputs": [],
   "source": [
    "# Three Standard Deviations Taken\n",
    "elements = np.array(less_mean)\n",
    "mean = np.mean(elements, axis=0)\n",
    "sd = np.std(elements, axis=0)\n",
    "less_list = [x for x in less_mean if (x > mean - 3 * sd)]\n",
    "less_list = [x for x in less_list if (x < mean + 3 * sd)]"
   ]
  },
  {
   "cell_type": "code",
   "execution_count": 56,
   "metadata": {},
   "outputs": [
    {
     "data": {
      "text/plain": [
       "248"
      ]
     },
     "execution_count": 56,
     "metadata": {},
     "output_type": "execute_result"
    }
   ],
   "source": [
    "len(less_list)"
   ]
  },
  {
   "cell_type": "code",
   "execution_count": 58,
   "metadata": {},
   "outputs": [],
   "source": [
    "# Greater Slave Lake"
   ]
  },
  {
   "cell_type": "code",
   "execution_count": 63,
   "metadata": {},
   "outputs": [
    {
     "data": {
      "text/html": [
       "<div>\n",
       "<style scoped>\n",
       "    .dataframe tbody tr th:only-of-type {\n",
       "        vertical-align: middle;\n",
       "    }\n",
       "\n",
       "    .dataframe tbody tr th {\n",
       "        vertical-align: top;\n",
       "    }\n",
       "\n",
       "    .dataframe thead th {\n",
       "        text-align: right;\n",
       "    }\n",
       "</style>\n",
       "<table border=\"1\" class=\"dataframe\">\n",
       "  <thead>\n",
       "    <tr style=\"text-align: right;\">\n",
       "      <th></th>\n",
       "      <th>date</th>\n",
       "      <th>lake</th>\n",
       "      <th>Latitude</th>\n",
       "      <th>Longitude</th>\n",
       "      <th>orbit</th>\n",
       "      <th>water_level</th>\n",
       "    </tr>\n",
       "  </thead>\n",
       "  <tbody>\n",
       "    <tr>\n",
       "      <th>212654</th>\n",
       "      <td>20210929</td>\n",
       "      <td>Great Slave</td>\n",
       "      <td>61.446536</td>\n",
       "      <td>-114.301019</td>\n",
       "      <td>18</td>\n",
       "      <td>156.729195</td>\n",
       "    </tr>\n",
       "    <tr>\n",
       "      <th>212653</th>\n",
       "      <td>20210929</td>\n",
       "      <td>Great Slave</td>\n",
       "      <td>61.443740</td>\n",
       "      <td>-114.298889</td>\n",
       "      <td>18</td>\n",
       "      <td>156.713327</td>\n",
       "    </tr>\n",
       "    <tr>\n",
       "      <th>212652</th>\n",
       "      <td>20210929</td>\n",
       "      <td>Great Slave</td>\n",
       "      <td>61.440944</td>\n",
       "      <td>-114.296760</td>\n",
       "      <td>18</td>\n",
       "      <td>156.648259</td>\n",
       "    </tr>\n",
       "    <tr>\n",
       "      <th>212666</th>\n",
       "      <td>20210929</td>\n",
       "      <td>Great Slave</td>\n",
       "      <td>61.480091</td>\n",
       "      <td>-114.326599</td>\n",
       "      <td>18</td>\n",
       "      <td>156.734574</td>\n",
       "    </tr>\n",
       "    <tr>\n",
       "      <th>213012</th>\n",
       "      <td>20210929</td>\n",
       "      <td>Great Slave</td>\n",
       "      <td>62.523925</td>\n",
       "      <td>-115.149802</td>\n",
       "      <td>18</td>\n",
       "      <td>156.633007</td>\n",
       "    </tr>\n",
       "  </tbody>\n",
       "</table>\n",
       "</div>"
      ],
      "text/plain": [
       "            date         lake   Latitude   Longitude  orbit  water_level\n",
       "212654  20210929  Great Slave  61.446536 -114.301019     18   156.729195\n",
       "212653  20210929  Great Slave  61.443740 -114.298889     18   156.713327\n",
       "212652  20210929  Great Slave  61.440944 -114.296760     18   156.648259\n",
       "212666  20210929  Great Slave  61.480091 -114.326599     18   156.734574\n",
       "213012  20210929  Great Slave  62.523925 -115.149802     18   156.633007"
      ]
     },
     "execution_count": 63,
     "metadata": {},
     "output_type": "execute_result"
    }
   ],
   "source": [
    "great = dfgr.sort_values('date')\n",
    "great.tail()"
   ]
  },
  {
   "cell_type": "code",
   "execution_count": 64,
   "metadata": {},
   "outputs": [
    {
     "data": {
      "text/plain": [
       "1328"
      ]
     },
     "execution_count": 64,
     "metadata": {},
     "output_type": "execute_result"
    }
   ],
   "source": [
    "great.date.nunique()"
   ]
  },
  {
   "cell_type": "code",
   "execution_count": 75,
   "metadata": {},
   "outputs": [],
   "source": [
    "greater = great.date.unique()\n",
    "great_mean = []"
   ]
  },
  {
   "cell_type": "code",
   "execution_count": 76,
   "metadata": {},
   "outputs": [],
   "source": [
    "for g in greater: \n",
    "    great_mean.append((great[great['date'] == g].water_level).mean())"
   ]
  },
  {
   "cell_type": "code",
   "execution_count": 77,
   "metadata": {},
   "outputs": [],
   "source": [
    "# Three Standard Deviations Taken\n",
    "elements = np.array(great_mean)\n",
    "mean = np.mean(elements, axis=0)\n",
    "sd = np.std(elements, axis=0)\n",
    "great_list = [x for x in great_mean if (x > mean - 3 * sd)]\n",
    "great_list = [x for x in great_list if (x < mean + 3 * sd)]"
   ]
  },
  {
   "cell_type": "code",
   "execution_count": 80,
   "metadata": {},
   "outputs": [
    {
     "data": {
      "text/plain": [
       "1308"
      ]
     },
     "execution_count": 80,
     "metadata": {},
     "output_type": "execute_result"
    }
   ],
   "source": [
    "len(great_list)"
   ]
  },
  {
   "cell_type": "code",
   "execution_count": 81,
   "metadata": {},
   "outputs": [],
   "source": [
    "# Athabasca"
   ]
  },
  {
   "cell_type": "code",
   "execution_count": 82,
   "metadata": {},
   "outputs": [
    {
     "data": {
      "text/html": [
       "<div>\n",
       "<style scoped>\n",
       "    .dataframe tbody tr th:only-of-type {\n",
       "        vertical-align: middle;\n",
       "    }\n",
       "\n",
       "    .dataframe tbody tr th {\n",
       "        vertical-align: top;\n",
       "    }\n",
       "\n",
       "    .dataframe thead th {\n",
       "        text-align: right;\n",
       "    }\n",
       "</style>\n",
       "<table border=\"1\" class=\"dataframe\">\n",
       "  <thead>\n",
       "    <tr style=\"text-align: right;\">\n",
       "      <th></th>\n",
       "      <th>date</th>\n",
       "      <th>lake</th>\n",
       "      <th>Latitude</th>\n",
       "      <th>Longitude</th>\n",
       "      <th>orbit</th>\n",
       "      <th>water_level</th>\n",
       "    </tr>\n",
       "  </thead>\n",
       "  <tbody>\n",
       "    <tr>\n",
       "      <th>45246</th>\n",
       "      <td>20210929</td>\n",
       "      <td>Athabasca</td>\n",
       "      <td>59.403541</td>\n",
       "      <td>-109.380034</td>\n",
       "      <td>27</td>\n",
       "      <td>209.494051</td>\n",
       "    </tr>\n",
       "    <tr>\n",
       "      <th>45247</th>\n",
       "      <td>20210929</td>\n",
       "      <td>Athabasca</td>\n",
       "      <td>59.400729</td>\n",
       "      <td>-109.381936</td>\n",
       "      <td>27</td>\n",
       "      <td>209.329970</td>\n",
       "    </tr>\n",
       "    <tr>\n",
       "      <th>45248</th>\n",
       "      <td>20210929</td>\n",
       "      <td>Athabasca</td>\n",
       "      <td>59.397916</td>\n",
       "      <td>-109.383837</td>\n",
       "      <td>27</td>\n",
       "      <td>209.403088</td>\n",
       "    </tr>\n",
       "    <tr>\n",
       "      <th>45274</th>\n",
       "      <td>20210929</td>\n",
       "      <td>Athabasca</td>\n",
       "      <td>59.324784</td>\n",
       "      <td>-109.433165</td>\n",
       "      <td>27</td>\n",
       "      <td>209.466858</td>\n",
       "    </tr>\n",
       "    <tr>\n",
       "      <th>45369</th>\n",
       "      <td>20210929</td>\n",
       "      <td>Athabasca</td>\n",
       "      <td>59.057448</td>\n",
       "      <td>-109.611804</td>\n",
       "      <td>27</td>\n",
       "      <td>210.599848</td>\n",
       "    </tr>\n",
       "  </tbody>\n",
       "</table>\n",
       "</div>"
      ],
      "text/plain": [
       "           date       lake   Latitude   Longitude  orbit  water_level\n",
       "45246  20210929  Athabasca  59.403541 -109.380034     27   209.494051\n",
       "45247  20210929  Athabasca  59.400729 -109.381936     27   209.329970\n",
       "45248  20210929  Athabasca  59.397916 -109.383837     27   209.403088\n",
       "45274  20210929  Athabasca  59.324784 -109.433165     27   209.466858\n",
       "45369  20210929  Athabasca  59.057448 -109.611804     27   210.599848"
      ]
     },
     "execution_count": 82,
     "metadata": {},
     "output_type": "execute_result"
    }
   ],
   "source": [
    "ath = dfath.sort_values('date')\n",
    "ath.tail()"
   ]
  },
  {
   "cell_type": "code",
   "execution_count": 83,
   "metadata": {},
   "outputs": [
    {
     "data": {
      "text/plain": [
       "648"
      ]
     },
     "execution_count": 83,
     "metadata": {},
     "output_type": "execute_result"
    }
   ],
   "source": [
    "ath.date.nunique()"
   ]
  },
  {
   "cell_type": "code",
   "execution_count": 84,
   "metadata": {},
   "outputs": [],
   "source": [
    "atha = ath.date.unique()\n",
    "ath_mean = []"
   ]
  },
  {
   "cell_type": "code",
   "execution_count": 85,
   "metadata": {},
   "outputs": [],
   "source": [
    "for a in atha: \n",
    "    ath_mean.append((ath[ath['date'] == a].water_level).mean())"
   ]
  },
  {
   "cell_type": "code",
   "execution_count": 87,
   "metadata": {},
   "outputs": [],
   "source": [
    "# Three Standard Deviations Taken\n",
    "elements = np.array(ath_mean)\n",
    "mean = np.mean(elements, axis=0)\n",
    "sd = np.std(elements, axis=0)\n",
    "ath_list = [x for x in ath_mean if (x > mean - 3 * sd)]\n",
    "ath_list = [x for x in ath_list if (x < mean + 3 * sd)]"
   ]
  },
  {
   "cell_type": "code",
   "execution_count": 88,
   "metadata": {},
   "outputs": [
    {
     "data": {
      "text/plain": [
       "638"
      ]
     },
     "execution_count": 88,
     "metadata": {},
     "output_type": "execute_result"
    }
   ],
   "source": [
    "len(ath_list)"
   ]
  },
  {
   "cell_type": "markdown",
   "metadata": {},
   "source": [
    "#### Step 3: Calculating Kalman Gains"
   ]
  },
  {
   "cell_type": "code",
   "execution_count": 92,
   "metadata": {},
   "outputs": [],
   "source": [
    "# Error in the measurement has been stated by the ESA to be +/- 10 to 15(cm)\n",
    "# Initial estimated error in the measurement is +/- 12.5(cm) --> (Taking the median)\n",
    "# Initial estimated error in the estimate is 2.5cm --> (Difference from the median)"
   ]
  },
  {
   "cell_type": "code",
   "execution_count": null,
   "metadata": {},
   "outputs": [],
   "source": []
  },
  {
   "cell_type": "markdown",
   "metadata": {},
   "source": [
    "##### Lesser Slave Lake"
   ]
  },
  {
   "cell_type": "code",
   "execution_count": 299,
   "metadata": {},
   "outputs": [],
   "source": [
    "total = 0\n",
    "nums = 0\n",
    "for i in less_list:\n",
    "    total += i\n",
    "    nums += 1"
   ]
  },
  {
   "cell_type": "code",
   "execution_count": 300,
   "metadata": {},
   "outputs": [],
   "source": [
    "mea = less_list[0]\n",
    "est_p = total/nums\n",
    "e_est = 2.5\n",
    "e_mea = 12.5"
   ]
  },
  {
   "cell_type": "code",
   "execution_count": 301,
   "metadata": {},
   "outputs": [],
   "source": [
    "old = e_est\n",
    "new = e_est\n",
    "estimate = est_p"
   ]
  },
  {
   "cell_type": "code",
   "execution_count": 302,
   "metadata": {},
   "outputs": [],
   "source": [
    "# Initial Kalman Gain\n",
    "kg = (new/(new+e_mea))/(100) # ---> Convert cm to m ---> ~0.00167\n",
    "# (Current Estimate)\n",
    "est_t = ((less_list[0]) + kg*(less_list[0] + estimate))\n",
    "# Current Error in the Estimate\n",
    "new = (1 - kg)*(old) "
   ]
  },
  {
   "cell_type": "code",
   "execution_count": 303,
   "metadata": {},
   "outputs": [],
   "source": [
    "# List of Estimates / List of Kalman Gains / List of Errors in the Estimate\n",
    "estimate_list_l = []\n",
    "kalman_gains_l = []\n",
    "errors_l = []"
   ]
  },
  {
   "cell_type": "code",
   "execution_count": 304,
   "metadata": {},
   "outputs": [
    {
     "name": "stdout",
     "output_type": "stream",
     "text": [
      "The Kalman Gain for Lesser Slave Lake is:  0.001231552061782597\n"
     ]
    }
   ],
   "source": [
    "for i in range(len(less_list)):\n",
    "    # Initial Kalman Gain\n",
    "    kg = (old/(old+e_mea))/(100)\n",
    "    # (Current Estimate)\n",
    "    est_t = ((less_list[i]) + kg*(less_list[i] + estimate))\n",
    "    # Current Error in the Estimate\n",
    "    new = (1 - kg)*(old)\n",
    "    # Update previous error in estimate\n",
    "    old = new\n",
    "    estimate_list_l.append(est_t)\n",
    "    kalman_gains_l.append(kg)\n",
    "    errors_l.append(new)\n",
    "print(\"The Kalman Gain for Lesser Slave Lake is: \", kg)\n",
    "    \n",
    "    "
   ]
  },
  {
   "cell_type": "code",
   "execution_count": null,
   "metadata": {},
   "outputs": [],
   "source": []
  },
  {
   "cell_type": "markdown",
   "metadata": {},
   "source": [
    "##### Lake Athabasca"
   ]
  },
  {
   "cell_type": "code",
   "execution_count": 293,
   "metadata": {},
   "outputs": [],
   "source": [
    "total = 0\n",
    "nums = 0\n",
    "for i in ath_list:\n",
    "    total += i\n",
    "    nums += 1"
   ]
  },
  {
   "cell_type": "code",
   "execution_count": 294,
   "metadata": {},
   "outputs": [],
   "source": [
    "mea = ath_list[0]\n",
    "est_p = total/nums\n",
    "e_est = 2.5\n",
    "e_mea = 12.5"
   ]
  },
  {
   "cell_type": "code",
   "execution_count": 295,
   "metadata": {},
   "outputs": [],
   "source": [
    "old = e_est\n",
    "new = e_est\n",
    "estimate = est_p"
   ]
  },
  {
   "cell_type": "code",
   "execution_count": 296,
   "metadata": {},
   "outputs": [],
   "source": [
    "# Initial Kalman Gain\n",
    "kg = (new/(new+e_mea))/(100) # ---> Convert cm to m ---> ~0.00167\n",
    "# (Current Estimate)\n",
    "est_t = ((ath_list[0]) + kg*(ath_list[0] + estimate))\n",
    "# Current Error in the Estimate\n",
    "new = (1 - kg)*(old) "
   ]
  },
  {
   "cell_type": "code",
   "execution_count": 297,
   "metadata": {},
   "outputs": [],
   "source": [
    "# List of Estimates / List of Kalman Gains / List of Errors in the Estimate\n",
    "estimate_list_a = []\n",
    "kalman_gains_a = []\n",
    "errors_a = []"
   ]
  },
  {
   "cell_type": "code",
   "execution_count": 298,
   "metadata": {},
   "outputs": [
    {
     "name": "stdout",
     "output_type": "stream",
     "text": [
      "The Kalman Gain for Lake Athabasca is:  0.0008603296001109918\n"
     ]
    }
   ],
   "source": [
    "for i in range(len(ath_list)):\n",
    "    # Initial Kalman Gain\n",
    "    kg = (old/(old+e_mea))/(100)\n",
    "    # (Current Estimate)\n",
    "    est_t = ((ath_list[i]) + kg*(ath_list[i] + estimate))\n",
    "    # Current Error in the Estimate\n",
    "    new = (1 - kg)*(old)\n",
    "    # Update previous error in estimate\n",
    "    old = new\n",
    "    estimate_list_a.append(est_t)\n",
    "    kalman_gains_a.append(kg)\n",
    "    errors_a.append(new)\n",
    "print(\"The Kalman Gain for Lake Athabasca is: \", kg)\n",
    "    "
   ]
  },
  {
   "cell_type": "code",
   "execution_count": null,
   "metadata": {},
   "outputs": [],
   "source": []
  },
  {
   "cell_type": "markdown",
   "metadata": {},
   "source": [
    "##### Great Slave Lake"
   ]
  },
  {
   "cell_type": "code",
   "execution_count": 286,
   "metadata": {},
   "outputs": [],
   "source": [
    "total = 0\n",
    "nums = 0\n",
    "for i in great_list:\n",
    "    total += i\n",
    "    nums += 1"
   ]
  },
  {
   "cell_type": "code",
   "execution_count": 287,
   "metadata": {},
   "outputs": [],
   "source": [
    "mea = great_list[0]\n",
    "est_p = total/nums\n",
    "e_est = 2.5\n",
    "e_mea = 12.5"
   ]
  },
  {
   "cell_type": "code",
   "execution_count": 288,
   "metadata": {},
   "outputs": [],
   "source": [
    "old = e_est\n",
    "new = e_est\n",
    "estimate = est_p"
   ]
  },
  {
   "cell_type": "code",
   "execution_count": 289,
   "metadata": {},
   "outputs": [],
   "source": [
    "# Initial Kalman Gain\n",
    "kg = (new/(new+e_mea))/(100) # ---> Convert cm to m ---> ~0.00167\n",
    "# (Current Estimate)\n",
    "est_t = ((great_list[0]) + kg*(great_list[0] + estimate))\n",
    "# Current Error in the Estimate\n",
    "new = (1 - kg)*(old) "
   ]
  },
  {
   "cell_type": "code",
   "execution_count": 290,
   "metadata": {},
   "outputs": [],
   "source": [
    "# List of Estimates / List of Kalman Gains / List of Errors in the Estimate\n",
    "estimate_list_g = []\n",
    "kalman_gains_g = []\n",
    "errors_g = []"
   ]
  },
  {
   "cell_type": "code",
   "execution_count": 291,
   "metadata": {},
   "outputs": [
    {
     "name": "stdout",
     "output_type": "stream",
     "text": [
      "The Kalman Gain for Great Slave Lake is:  0.0005597318911788747\n"
     ]
    }
   ],
   "source": [
    "for i in range(len(great_list)):\n",
    "    # Initial Kalman Gain\n",
    "    kg = (old/(old+e_mea))/(100)\n",
    "    # (Current Estimate)\n",
    "    est_t = ((great_list[i]) + kg*(great_list[i] + estimate))\n",
    "    # Current Error in the Estimate\n",
    "    new = (1 - kg)*(old)\n",
    "    # Update previous error in estimate\n",
    "    old = new\n",
    "    estimate_list_g.append(est_t)\n",
    "    kalman_gains_g.append(kg)\n",
    "    errors_g.append(new)\n",
    "print(\"The Kalman Gain for Great Slave Lake is: \", kg)\n",
    "    "
   ]
  },
  {
   "cell_type": "markdown",
   "metadata": {},
   "source": [
    "#### Part 4: Visualising the Results"
   ]
  },
  {
   "cell_type": "code",
   "execution_count": 271,
   "metadata": {},
   "outputs": [],
   "source": [
    "# Great Slave Lake"
   ]
  },
  {
   "cell_type": "code",
   "execution_count": 272,
   "metadata": {},
   "outputs": [],
   "source": [
    "# Water Levels 2016 - 2021"
   ]
  },
  {
   "cell_type": "code",
   "execution_count": 292,
   "metadata": {},
   "outputs": [
    {
     "data": {
      "text/plain": [
       "[<matplotlib.lines.Line2D at 0x7fc8679088b0>,\n",
       " <matplotlib.lines.Line2D at 0x7fc867908a00>]"
      ]
     },
     "execution_count": 292,
     "metadata": {},
     "output_type": "execute_result"
    },
    {
     "data": {
      "image/png": "[encoded data removed]",
      "text/plain": [
       "<Figure size 432x288 with 1 Axes>"
      ]
     },
     "metadata": {
      "needs_background": "light"
     },
     "output_type": "display_data"
    }
   ],
   "source": [
    "y = great_list\n",
    "y2 = estimate_list_g\n",
    "x = range(len(great_list))\n",
    "\n",
    "plt.plot(x,y, y2)"
   ]
  },
  {
   "cell_type": "code",
   "execution_count": 273,
   "metadata": {},
   "outputs": [],
   "source": [
    "# Lesser Slave Lake"
   ]
  },
  {
   "cell_type": "code",
   "execution_count": 274,
   "metadata": {},
   "outputs": [],
   "source": [
    "# Water Levels 2016 - 2021"
   ]
  },
  {
   "cell_type": "code",
   "execution_count": 305,
   "metadata": {},
   "outputs": [
    {
     "data": {
      "text/plain": [
       "[<matplotlib.lines.Line2D at 0x7fc867ca3af0>,\n",
       " <matplotlib.lines.Line2D at 0x7fc867ca3b20>]"
      ]
     },
     "execution_count": 305,
     "metadata": {},
     "output_type": "execute_result"
    },
    {
     "data": {
      "image/png": "[encoded data removed]",
      "text/plain": [
       "<Figure size 432x288 with 1 Axes>"
      ]
     },
     "metadata": {
      "needs_background": "light"
     },
     "output_type": "display_data"
    }
   ],
   "source": [
    "y = less_list\n",
    "y2 = estimate_list_l\n",
    "x = range(len(less_list))\n",
    "\n",
    "plt.plot(x,y, y2)"
   ]
  },
  {
   "cell_type": "code",
   "execution_count": 276,
   "metadata": {},
   "outputs": [],
   "source": [
    "# Lesser Slave Lake"
   ]
  },
  {
   "cell_type": "code",
   "execution_count": 275,
   "metadata": {},
   "outputs": [],
   "source": [
    "# Water Levels 2016 - 2021"
   ]
  },
  {
   "cell_type": "code",
   "execution_count": 306,
   "metadata": {},
   "outputs": [
    {
     "data": {
      "text/plain": [
       "[<matplotlib.lines.Line2D at 0x7fc866e46160>,\n",
       " <matplotlib.lines.Line2D at 0x7fc8679830d0>]"
      ]
     },
     "execution_count": 306,
     "metadata": {},
     "output_type": "execute_result"
    },
    {
     "data": {
      "image/png": "[encoded data removed]",
      "text/plain": [
       "<Figure size 432x288 with 1 Axes>"
      ]
     },
     "metadata": {
      "needs_background": "light"
     },
     "output_type": "display_data"
    }
   ],
   "source": [
    "y = ath_list\n",
    "y2 = estimate_list_a\n",
    "x = range(len(ath_list))\n",
    "\n",
    "plt.plot(x,y, y2)"
   ]
  },
  {
   "cell_type": "markdown",
   "metadata": {},
   "source": [
    "#### Step Extra..."
   ]
  },
  {
   "cell_type": "code",
   "execution_count": 281,
   "metadata": {},
   "outputs": [],
   "source": [
    "# Graph the lists of Kalman Gains against Estimated water levels against Estimated Errors"
   ]
  },
  {
   "cell_type": "code",
   "execution_count": 308,
   "metadata": {},
   "outputs": [],
   "source": [
    "# Make graphs large and well labeled and lemony fresh. "
   ]
  },
  {
   "cell_type": "code",
   "execution_count": null,
   "metadata": {},
   "outputs": [],
   "source": []
  },
  {
   "cell_type": "code",
   "execution_count": null,
   "metadata": {},
   "outputs": [],
   "source": [
    "\n",
    "        "
   ]
  },
  {
   "cell_type": "code",
   "execution_count": null,
   "metadata": {},
   "outputs": [],
   "source": []
  },
  {
   "cell_type": "code",
   "execution_count": null,
   "metadata": {},
   "outputs": [],
   "source": []
  },
  {
   "cell_type": "code",
   "execution_count": null,
   "metadata": {},
   "outputs": [],
   "source": []
  },
  {
   "cell_type": "code",
   "execution_count": null,
   "metadata": {},
   "outputs": [],
   "source": []
  },
  {
   "cell_type": "code",
   "execution_count": null,
   "metadata": {},
   "outputs": [],
   "source": []
  }
 ],
 "metadata": {
  "kernelspec": {
   "display_name": "Python 3",
   "language": "python",
   "name": "python3"
  },
  "language_info": {
   "codemirror_mode": {
    "name": "ipython",
    "version": 3
   },
   "file_extension": ".py",
   "mimetype": "text/x-python",
   "name": "python",
   "nbconvert_exporter": "python",
   "pygments_lexer": "ipython3",
   "version": "3.8.5"
  }
 },
 "nbformat": 4,
 "nbformat_minor": 4
}
